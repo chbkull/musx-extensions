{
 "metadata": {
  "language_info": {
   "codemirror_mode": {
    "name": "ipython",
    "version": 3
   },
   "file_extension": ".py",
   "mimetype": "text/x-python",
   "name": "python",
   "nbconvert_exporter": "python",
   "pygments_lexer": "ipython3",
   "version": "3.9.4"
  },
  "orig_nbformat": 2,
  "kernelspec": {
   "name": "pythonjvsc74a57bd0cc575604c38aa2a9cf98cf3401d2c8b409d5b02d344c623e5fa12777f9bf67b5",
   "display_name": "Python 3.9.4  ('venv': venv)"
  },
  "metadata": {
   "interpreter": {
    "hash": "cc575604c38aa2a9cf98cf3401d2c8b409d5b02d344c623e5fa12777f9bf67b5"
   }
  }
 },
 "nbformat": 4,
 "nbformat_minor": 2,
 "cells": [
  {
   "cell_type": "code",
   "execution_count": 91,
   "metadata": {},
   "outputs": [],
   "source": [
    "%reload_ext autoreload\n",
    "%autoreload 2\n",
    "\n",
    "import musx\n",
    "import rtmidi\n",
    "from custom_utils import *"
   ]
  },
  {
   "cell_type": "code",
   "execution_count": 2,
   "metadata": {},
   "outputs": [
    {
     "output_type": "stream",
     "name": "stdout",
     "text": [
      "available ports: ['Microsoft GS Wavetable Synth 0', 'musx2reaper 1']\n"
     ]
    }
   ],
   "source": [
    "midiout = rtmidi.MidiOut()\n",
    "outports = midiout.get_ports()\n",
    "print(\"available ports:\", outports)"
   ]
  },
  {
   "cell_type": "code",
   "execution_count": 3,
   "metadata": {},
   "outputs": [
    {
     "output_type": "execute_result",
     "data": {
      "text/plain": [
       "<rtmidi._rtmidi.MidiOut at 0x13e1828a720>"
      ]
     },
     "metadata": {},
     "execution_count": 3
    }
   ],
   "source": [
    "midiout.open_port(outports.index('musx2reaper 1'))"
   ]
  },
  {
   "cell_type": "code",
   "execution_count": 40,
   "metadata": {},
   "outputs": [],
   "source": [
    "def beads(queue):\n",
    "    queue.compose([\n",
    "       [0, distribution(queue, chan=0, length=40, notes=musx.scale(0, 7, 2, 2, 1, 2, 2, 2, 1), dur=1)],\n",
    "       [8, distribution(queue, chan=0, length=32, notes=musx.scale(24, 7, 2, 2, 1, 2, 2, 2, 1), dur=0.5)],\n",
    "       [16, distribution(queue, chan=0, length=24, notes=musx.scale(36, 7, 2, 2, 1, 2, 2, 2, 1), dur=0.25)],\n",
    "       [24, distribution(queue, chan=0, length=16, notes=musx.scale(48, 7, 2, 2, 1, 2, 2, 2, 1), dur=0.25)],\n",
    "       [32, distribution(queue, chan=0, length=8, notes=musx.scale(60, 7, 2, 2, 1, 2, 2, 2, 1), dur=0.125)],\n",
    "       [40, distribution(queue, chan=0, length=28, notes=musx.scale(36, 7, 2, 2, 1, 2, 2, 2, 1), dur=0.25)],\n",
    "       [40, cc_linear(queue, chan=0, ctrl=32, length=16, start=0, end=32, low=0, high=127)],\n",
    "       [56, distribution(queue, chan=0, length=16, notes=musx.scale(0, 7, 2, 2, 1, 2, 2, 2, 1), dur=0.5)],\n",
    "       [60, distribution(queue, chan=0, length=28, notes=musx.scale(24, 7, 2, 2, 1, 2, 2, 2, 1), dur=0.25)],\n",
    "       [64, distribution(queue, chan=0, length=24, notes=musx.scale(36, 7, 2, 2, 1, 2, 2, 2, 1), dur=0.125)],\n",
    "       [68, distribution(queue, chan=0, length=20, notes=musx.scale(48, 7, 2, 2, 1, 2, 2, 2, 1), dur=0.125)],\n",
    "    ])\n",
    "    yield 0"
   ]
  },
  {
   "cell_type": "code",
   "execution_count": 6,
   "metadata": {},
   "outputs": [],
   "source": [
    "def bead_to_blow(queue, *, chan1, chan2, length, notes, rhy, distribution=musx.uniran, lo=0, hi=1):\n",
    "    start_time = queue.now\n",
    "    while queue.now - start_time < length:\n",
    "        selected = round(musx.rescale(distribution(), lo, hi, 0, len(notes) - 1))\n",
    "        queue.out.addevent(musx.MidiNote(time=queue.now, dur=rhy, key=notes[selected], chan=chan1))\n",
    "        queue.out.addevent(musx.MidiNote(time=queue.now, dur=rhy, key=notes[selected] + 60, chan=chan2))\n",
    "        yield rhy"
   ]
  },
  {
   "cell_type": "code",
   "execution_count": 7,
   "metadata": {},
   "outputs": [],
   "source": [
    "def transition1(queue):\n",
    "    queue.compose([[0, bead_to_blow(queue, chan1=0, chan2=2, length=16, notes=musx.scale(24, 7, 2, 2, 1, 2, 2, 2, 1), rhy=0.5)],\n",
    "                   [4, cc_linear(queue, chan=2, ctrl=20, length=12, start=0, end=24, low=0, high=127)],])\n",
    "    yield 0 "
   ]
  },
  {
   "cell_type": "code",
   "execution_count": 10,
   "metadata": {
    "tags": []
   },
   "outputs": [
    {
     "output_type": "stream",
     "name": "stdout",
     "text": [
      "Done!\n"
     ]
    }
   ],
   "source": [
    "seq = musx.MidiSeq()\n",
    "queue = musx.Scheduler(out=seq)\n",
    "# queue.compose([[0, cc_init(queue)],\n",
    "#                [0, beads(queue)]])\n",
    "queue.compose([\n",
    "    [0, cc_init(queue)],\n",
    "    [0, beads(queue)],\n",
    "            #    [88, transition1(queue)],\n",
    "    [88, blown_bottles(queue)],\n",
    "    [100, cc_linear(queue, chan=2, ctrl=32, length=60, start=0, end=1)],\n",
    "    [130, swell(queue)],\n",
    "])         \n",
    "seq.play(midiout, False)"
   ]
  },
  {
   "cell_type": "code",
   "execution_count": 88,
   "metadata": {},
   "outputs": [],
   "source": [
    "midiout = midi_restart(midiout, 'musx2reaper 1')"
   ]
  },
  {
   "cell_type": "code",
   "execution_count": 84,
   "metadata": {},
   "outputs": [],
   "source": [
    "midiout.send_message(musx.control_change(0, 33, 48)) # used for MIDI learning the Supermassive parameter\n",
    "# midiout.send_message(musx.control_change(0, 33, 64)) # used for MIDI learning bottle-high pan parameter\n",
    "# midiout.send_message(musx.control_change(0, 34, 64)) # used for MIDI learning bottle-high pan parameter"
   ]
  },
  {
   "cell_type": "code",
   "execution_count": null,
   "metadata": {},
   "outputs": [],
   "source": [
    "\"\"\"\n",
    "Notes for myself:\n",
    "- Multitrack is the best way to make sonic material (can pan sounds differently)\n",
    "- \"Chaos theory\"\n",
    "- Super high pitched bottles (108+) are digital like\n",
    "\"\"\""
   ]
  },
  {
   "cell_type": "code",
   "execution_count": 11,
   "metadata": {},
   "outputs": [],
   "source": [
    "def speedup(queue):\n",
    "\n",
    "    queue.compose([\n",
    "        [0, cc_init(queue)],\n",
    "        [0, distribution(queue, chan=15, length=8, notes=musx.scale(60, 7, 2, 2, 1, 2, 2, 2, 1), dur=0.5)],\n",
    "        [8, distribution(queue, chan=15, length=8, notes=musx.scale(60, 7, 2, 2, 1, 2, 2, 2, 1), dur=0.25)],\n",
    "        [8, distribution(queue, chan=15, length=8, notes=musx.scale(72, 7, 2, 2, 1, 2, 2, 2, 1), dur=0.25)],\n",
    "        [16, distribution(queue, chan=15, length=8, notes=musx.scale(48, 7, 2, 2, 1, 2, 2, 2, 1), dur=0.125)],\n",
    "        [16, distribution(queue, chan=15, length=8, notes=musx.scale(60, 7, 2, 2, 1, 2, 2, 2, 1), dur=0.125)],\n",
    "        [16, distribution(queue, chan=15, length=8, notes=musx.scale(72, 7, 2, 2, 1, 2, 2, 2, 1), dur=0.125)],\n",
    "        [16, distribution(queue, chan=15, length=8, notes=musx.scale(84, 7, 2, 2, 1, 2, 2, 2, 1), dur=0.125)],\n",
    "    ])\n",
    "    seq.play(midiout, False)"
   ]
  },
  {
   "cell_type": "code",
   "execution_count": 78,
   "metadata": {},
   "outputs": [],
   "source": [
    "def cc_init(queue):\n",
    "    queue.out.addevent(musx.MidiEvent.control_change(0, 32, 0)) # Ukulele Supermassive mix -> 0%\n",
    "    queue.out.addevent(musx.MidiEvent.control_change(0, 33, 64)) # Ukulele volume -> 0 dB\n",
    "    queue.out.addevent(musx.MidiEvent.control_change(2, 32, 0)) # Blown bottle Supermassive mix -> 0%\n",
    "    queue.out.addevent(musx.MidiEvent.control_change(2, 33, 0)) # Blown bottle volume -> -60 dB\n",
    "    queue.out.addevent(musx.MidiEvent.control_change(4, 32, 0)) # Swell bottles Supermassive mix -> 0%\n",
    "    queue.out.addevent(musx.MidiEvent.control_change(4, 33, 64)) # Reset swell bottle 1 panning to center\n",
    "    queue.out.addevent(musx.MidiEvent.control_change(4, 34, 64)) # Reset swell bottle 2 panning to center\n",
    "    queue.out.addevent(musx.MidiEvent.control_change(4, 35, 31)) # Swell bottles volume -> -30 dB\n",
    "    yield 0"
   ]
  },
  {
   "cell_type": "code",
   "execution_count": 85,
   "metadata": {},
   "outputs": [],
   "source": [
    "def ukulele(queue):\n",
    "    queue.compose([\n",
    "        [0, distribution(queue, chan=0, length=40, notes=musx.scale(24, 7, 2, 2, 1, 2, 2, 2, 1), dur=1)],\n",
    "        [8, distribution(queue, chan=0, length=32, notes=musx.scale(36, 7, 2, 2, 1, 2, 2, 2, 1), dur=0.5)],\n",
    "        [16, distribution(queue, chan=0, length=24, notes=musx.scale(48, 7, 2, 2, 1, 2, 2, 2, 1), dur=0.25)],\n",
    "        [24, distribution(queue, chan=0, length=16, notes=musx.scale(60, 7, 2, 2, 1, 2, 2, 2, 1), dur=0.25)],\n",
    "        [32, distribution(queue, chan=0, length=8, notes=musx.scale(72, 7, 2, 2, 1, 2, 2, 2, 1), dur=0.125)],\n",
    "        [40, distribution(queue, chan=0, length=28, notes=musx.scale(48, 7, 2, 2, 1, 2, 2, 2, 1), dur=0.25)],\n",
    "        [40, cc_linear(queue, chan=0, ctrl=32, length=16, start=0, end=64, low=0, high=127)],\n",
    "        [56, distribution(queue, chan=0, length=16, notes=musx.scale(36, 7, 2, 2, 1, 2, 2, 2, 1), dur=0.5)],\n",
    "        [60, distribution(queue, chan=0, length=28, notes=musx.scale(36, 7, 2, 2, 1, 2, 2, 2, 1), dur=0.25)],\n",
    "        [64, distribution(queue, chan=0, length=24, notes=musx.scale(48, 7, 2, 2, 1, 2, 2, 2, 1), dur=0.125)],\n",
    "        [68, distribution(queue, chan=0, length=20, notes=musx.scale(60, 7, 2, 2, 1, 2, 2, 2, 1), dur=0.125)],\n",
    "        ])\n",
    "    yield 0"
   ]
  },
  {
   "cell_type": "code",
   "execution_count": 41,
   "metadata": {},
   "outputs": [],
   "source": [
    "def blown_bottles(queue):\n",
    "    for iteration in range(24):\n",
    "        jumble_gen = musx.jumble(musx.scale(48, 23, 2, 2, 1, 2, 2, 2, 1))\n",
    "        notes = [next(jumble_gen) for _ in range(6)]\n",
    "        positions = round(musx.rescale(musx.highran(), 0, 1, 4, 16))\n",
    "        for note in notes:\n",
    "            events = round(musx.rescale(musx.midran(), 0, 1, 1, positions))\n",
    "            rotation = round(musx.rescale(musx.uniran(), 0, 1, 0, positions - 1))\n",
    "            queue.compose([[iteration * 4, euclidean_rhythm(queue, chan=2, length=4, keynum=note, events=events, positions=positions, cycletime=4, rotation=rotation)]])\n",
    "    yield 0"
   ]
  },
  {
   "cell_type": "code",
   "execution_count": 42,
   "metadata": {},
   "outputs": [],
   "source": [
    "def swell(queue):\n",
    "    queue.compose([\n",
    "        [0, cc_linear(queue, chan=4, ctrl=35, length=12, start=31, end=56, low=0, high=127)],\n",
    "        [0, random_ascend(queue, chan=4, length=60, notes=musx.scale(84, 17, 2, 2, 1, 2, 2, 2, 1), dur=0.5)],\n",
    "        [0, cc_distribution(queue, chan=4, ctrl=33, length=60, rate=0.25)],\n",
    "        [0, random_ascend(queue, chan=5, length=60, notes=musx.scale(72, 17, 2, 2, 1, 2, 2, 2, 1), dur=1)],\n",
    "        [0, cc_distribution(queue, chan=4, ctrl=34, length=60, rate=0.5)],\n",
    "        [30, cc_linear(queue, chan=4, ctrl=32, length=30, start=0, end=0.25)]\n",
    "    ])\n",
    "    yield 0"
   ]
  },
  {
   "cell_type": "code",
   "execution_count": 89,
   "metadata": {},
   "outputs": [
    {
     "output_type": "stream",
     "name": "stdout",
     "text": [
      "Done!\n"
     ]
    }
   ],
   "source": [
    "seq = musx.MidiSeq()\n",
    "queue = musx.Scheduler(out=seq)\n",
    "queue.compose([\n",
    "    [0, cc_init(queue)],\n",
    "    [0, ukulele(queue)],\n",
    "    [88, drunk_walker(queue, chan=0, length=60, notes=musx.scale(36, 15, 2, 2, 1, 2, 2, 2, 1), dur=0.5)],\n",
    "    [88, cc_linear(queue, chan=0, ctrl=33, length=60, start=64, end=48, low=0, high=127)],\n",
    "    [98, blown_bottles(queue)],\n",
    "    [98, cc_linear(queue, chan=2, ctrl=33, length=12, start=32, end=64, low=0, high=127)],\n",
    "    [110, cc_linear(queue, chan=2, ctrl=32, length=60, start=0, end=1)],\n",
    "    [140, swell(queue)],\n",
    "])"
   ]
  },
  {
   "cell_type": "code",
   "execution_count": 90,
   "metadata": {},
   "outputs": [],
   "source": [
    "seq.play(midiout, False)"
   ]
  },
  {
   "cell_type": "code",
   "execution_count": 69,
   "metadata": {},
   "outputs": [
    {
     "output_type": "stream",
     "name": "stdout",
     "text": [
      "Done!\n"
     ]
    }
   ],
   "source": [
    "seq = musx.MidiSeq()\n",
    "queue = musx.Scheduler(out=seq)\n",
    "queue.compose([\n",
    "    [0, cc_init(queue)],\n",
    "    # [0.01, cc_message(queue, chan=0, ctrl=32, value=63)],\n",
    "    [0, drunk_walker(queue, chan=0, length=20, notes=musx.scale(36, 15, 2, 2, 1, 2, 2, 2, 1), dur=0.5)]\n",
    "])\n",
    "seq.play(midiout, False)"
   ]
  }
 ]
}