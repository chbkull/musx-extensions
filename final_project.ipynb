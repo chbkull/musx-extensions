{
 "metadata": {
  "language_info": {
   "codemirror_mode": {
    "name": "ipython",
    "version": 3
   },
   "file_extension": ".py",
   "mimetype": "text/x-python",
   "name": "python",
   "nbconvert_exporter": "python",
   "pygments_lexer": "ipython3",
   "version": "3.9.4"
  },
  "orig_nbformat": 2,
  "kernelspec": {
   "name": "python3",
   "display_name": "Python 3",
   "language": "python"
  }
 },
 "nbformat": 4,
 "nbformat_minor": 2,
 "cells": [
  {
   "cell_type": "code",
   "execution_count": 11,
   "metadata": {},
   "outputs": [],
   "source": [
    "import musx\n",
    "import rtmidi\n",
    "from custom_utils import *"
   ]
  },
  {
   "cell_type": "code",
   "execution_count": 2,
   "metadata": {},
   "outputs": [
    {
     "output_type": "stream",
     "name": "stdout",
     "text": [
      "available ports: ['Microsoft GS Wavetable Synth 0', 'musx2reaper 1']\n"
     ]
    }
   ],
   "source": [
    "midiout = rtmidi.MidiOut()\n",
    "outports = midiout.get_ports()\n",
    "print(\"available ports:\", outports)"
   ]
  },
  {
   "cell_type": "code",
   "execution_count": 3,
   "metadata": {},
   "outputs": [
    {
     "output_type": "execute_result",
     "data": {
      "text/plain": [
       "<rtmidi._rtmidi.MidiOut at 0x199c3b2b630>"
      ]
     },
     "metadata": {},
     "execution_count": 3
    }
   ],
   "source": [
    "midiout.open_port(outports.index('musx2reaper 1'))"
   ]
  },
  {
   "cell_type": "code",
   "execution_count": 4,
   "metadata": {},
   "outputs": [],
   "source": [
    "def pickrand(index, total):\n",
    "    if (index / total) < 0.33:\n",
    "        return musx.lowran()\n",
    "    elif (index / total) < 0.66:\n",
    "        return musx.midran()\n",
    "    else:\n",
    "        return musx.highran()\n",
    "\n",
    "def random_ascend(queue, num, root, rhy, dur, amp, chan):\n",
    "    scale = musx.scale(root, 17, 2, 2, 1, 2, 2, 2, 1) # 2 octave major scale\n",
    "\n",
    "    rhythms = musx.choose([rhy, [0, rhy/2], [0, rhy/4, rhy/2, 3 * (rhy/4)], [0, 3 * (rhy/4)], [0, 0], [0, 0, rhy/2, rhy/2], [0, 0, 0]]) # repeated ones are a hack for triads\n",
    "    for i in range(num):\n",
    "        r = next(rhythms)\n",
    "        if musx.isnum(r):\n",
    "            n = int(musx.rescale(pickrand(i, num), 0, 1, 0, len(scale)))\n",
    "            k = scale[n]\n",
    "            m = musx.MidiNote(time=queue.now, dur=rhy, key=k, amp=amp, chan=chan)\n",
    "            queue.out.addevent(m)\n",
    "        else:\n",
    "            for time in r:\n",
    "                n = int(musx.rescale(pickrand(i, num), 0, 1, 0, len(scale)))\n",
    "                k = scale[n]\n",
    "                m = musx.MidiNote(time=queue.now + time, dur=rhy, key=k, amp=amp, chan=chan)\n",
    "                queue.out.addevent(m)\n",
    "        yield rhy"
   ]
  },
  {
   "cell_type": "code",
   "execution_count": 5,
   "metadata": {},
   "outputs": [],
   "source": [
    "def cc_init(queue):\n",
    "    queue.out.addevent(musx.MidiEvent.control_change(0, 32, 0)) # Reset Supermassive mix to 0%\n",
    "    # queue.out.addevent(musx.MidiEvent.control_change(0, 32, 64))\n",
    "    queue.out.addevent(musx.MidiEvent.control_change(0, 33, 64)) # Reset bottle-high panning to center\n",
    "    queue.out.addevent(musx.MidiEvent.control_change(0, 34, 64)) # Reset bottle-high panning to center\n",
    "    yield 0"
   ]
  },
  {
   "cell_type": "code",
   "execution_count": 6,
   "metadata": {},
   "outputs": [],
   "source": [
    "def cc_distribution(queue, chan, ctrl, *, num, rate, distribution=musx.uniran, low=0, high=1):\n",
    "    for i in range(num):\n",
    "        original = max(low, min(distribution(), high))\n",
    "        val = int(musx.rescale(original, low, high, 0, 127))\n",
    "        queue.out.addevent(musx.MidiEvent.control_change(chan, ctrl, val, time=queue.now + (i * rate)))\n",
    "        yield rate"
   ]
  },
  {
   "cell_type": "code",
   "execution_count": 7,
   "metadata": {},
   "outputs": [],
   "source": [
    "def euclidean_rhythm(queue, length, keynum, events, steps, rotation, cycletime, amp, chan):\n",
    "    sequence = bjorklund(events, steps)\n",
    "    start_time = queue.now\n",
    "    notelen = cycletime / steps\n",
    "    i = rotation\n",
    "    while queue.now - start_time < length:\n",
    "        if sequence[i] == 1:\n",
    "            queue.out.addevent(musx.MidiNote(time=queue.now, dur=notelen, key=keynum, amp=amp, chan=chan))\n",
    "        i += 1\n",
    "        i %= steps\n",
    "        yield notelen"
   ]
  },
  {
   "cell_type": "code",
   "execution_count": 9,
   "metadata": {},
   "outputs": [
    {
     "output_type": "stream",
     "name": "stdout",
     "text": [
      "Done!\n"
     ]
    }
   ],
   "source": [
    "seq = musx.MidiSeq()\n",
    "queue = musx.Scheduler(out=seq)\n",
    "queue.compose([[0, cc_init(queue)],\n",
    "               [0, random_ascend(queue, 120, 72, 0.5, 1, 0.25, 0)],\n",
    "               [0, cc_distribution(queue, 0, 33, num=120, rate=0.25)],\n",
    "               [0, random_ascend(queue, 60, 60, 1, 1, 0.25, 1)],\n",
    "               [0, cc_distribution(queue, 0, 34, num=60, rate=0.5)],\n",
    "            #    [0, random_ascend(queue, 120, 48, 0.5, 1, 0.25, 2)],\n",
    "               [30, cc_linear(queue, 0, 32, length=30, start=0, end=0.25)]\n",
    "               ])\n",
    "seq.play(midiout, False)\n",
    "# musx.MidiFile(\"random_ascend.mid\", seq).write()"
   ]
  },
  {
   "cell_type": "code",
   "execution_count": 8,
   "metadata": {},
   "outputs": [
    {
     "output_type": "stream",
     "name": "stdout",
     "text": [
      "Done!\n"
     ]
    }
   ],
   "source": [
    "seq = musx.MidiSeq()\n",
    "queue = musx.Scheduler(out=seq)\n",
    "queue.compose([[0, cc_init(queue)],\n",
    "               [0, euclidean_rhythm(queue, 16, 60, 3, 16, 0, 4, 0.25, 2)],\n",
    "               [0, euclidean_rhythm(queue, 16, 64, 7, 16, 0, 4, 0.25, 2)],\n",
    "               [0, euclidean_rhythm(queue, 16, 67, 3, 16, 9, 4, 0.25, 2)],\n",
    "               [0, euclidean_rhythm(queue, 16, 70, 7, 16, 7, 4, 0.25, 2)]])\n",
    "seq.play(midiout, False)"
   ]
  },
  {
   "cell_type": "code",
   "execution_count": 13,
   "metadata": {},
   "outputs": [],
   "source": [
    "midiout = midi_restart(midiout, 'musx2reaper 1')"
   ]
  },
  {
   "cell_type": "code",
   "execution_count": 9,
   "metadata": {},
   "outputs": [],
   "source": [
    "# midiout.send_message(musx.control_change(0, 32, 64)) # used for MIDI learning the Supermassive parameter\n",
    "# midiout.send_message(musx.control_change(0, 33, 64)) # used for MIDI learning bottle-high pan parameter\n",
    "midiout.send_message(musx.control_change(0, 34, 64)) # used for MIDI learning bottle-high pan parameter"
   ]
  },
  {
   "cell_type": "code",
   "execution_count": 29,
   "metadata": {},
   "outputs": [
    {
     "output_type": "execute_result",
     "data": {
      "text/plain": [
       "-1.1847760540811445"
      ]
     },
     "metadata": {},
     "execution_count": 29
    }
   ],
   "source": [
    "musx.gauss()"
   ]
  }
 ]
}