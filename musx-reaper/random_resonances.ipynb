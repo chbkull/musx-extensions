{
 "metadata": {
  "language_info": {
   "codemirror_mode": {
    "name": "ipython",
    "version": 3
   },
   "file_extension": ".py",
   "mimetype": "text/x-python",
   "name": "python",
   "nbconvert_exporter": "python",
   "pygments_lexer": "ipython3",
   "version": "3.9.4"
  },
  "orig_nbformat": 2,
  "kernelspec": {
   "name": "pythonjvsc74a57bd0cc575604c38aa2a9cf98cf3401d2c8b409d5b02d344c623e5fa12777f9bf67b5",
   "display_name": "Python 3.9.4  ('venv': venv)"
  },
  "metadata": {
   "interpreter": {
    "hash": "cc575604c38aa2a9cf98cf3401d2c8b409d5b02d344c623e5fa12777f9bf67b5"
   }
  }
 },
 "nbformat": 4,
 "nbformat_minor": 2,
 "cells": [
  {
   "cell_type": "code",
   "execution_count": 1,
   "metadata": {},
   "outputs": [],
   "source": [
    "%reload_ext autoreload\n",
    "%autoreload 2\n",
    "\n",
    "import musx\n",
    "import rtmidi\n",
    "from custom_utils import *"
   ]
  },
  {
   "cell_type": "code",
   "execution_count": 2,
   "metadata": {},
   "outputs": [
    {
     "output_type": "stream",
     "name": "stdout",
     "text": [
      "available ports: ['Microsoft GS Wavetable Synth 0', 'musx2reaper 1']\n"
     ]
    }
   ],
   "source": [
    "# Look for available ports\n",
    "midiout = rtmidi.MidiOut()\n",
    "outports = midiout.get_ports()\n",
    "print(\"available ports:\", outports)"
   ]
  },
  {
   "cell_type": "code",
   "execution_count": 3,
   "metadata": {},
   "outputs": [
    {
     "output_type": "execute_result",
     "data": {
      "text/plain": [
       "<rtmidi._rtmidi.MidiOut at 0x1ec5df2f810>"
      ]
     },
     "metadata": {},
     "execution_count": 3
    }
   ],
   "source": [
    "# Connecting to the virtual LoopMIDI port that has Reaper listening in on it\n",
    "midiout.open_port(outports.index('musx2reaper 1'))"
   ]
  },
  {
   "cell_type": "code",
   "execution_count": 4,
   "metadata": {},
   "outputs": [],
   "source": [
    "def cc_init(queue):\n",
    "    queue.out.addevent(musx.MidiEvent.control_change(0, 32, 0)) # Ukulele Supermassive mix -> 0%\n",
    "    queue.out.addevent(musx.MidiEvent.control_change(0, 33, 64)) # Ukulele volume -> 0 dB\n",
    "    queue.out.addevent(musx.MidiEvent.control_change(2, 32, 48)) # Blown bottle 1 volume -> -14 dB\n",
    "    queue.out.addevent(musx.MidiEvent.control_change(3, 32, 0)) # Blown bottle 2 Supermassive mix -> 0%\n",
    "    queue.out.addevent(musx.MidiEvent.control_change(3, 33, 31)) # Blown bottle 2 volume -> -30 dB\n",
    "    queue.out.addevent(musx.MidiEvent.control_change(4, 32, 0)) # Swell bottles Supermassive mix -> 0%\n",
    "    queue.out.addevent(musx.MidiEvent.control_change(4, 33, 64)) # Swell bottle 1 panning -> center\n",
    "    queue.out.addevent(musx.MidiEvent.control_change(4, 34, 64)) # Swell bottle 2 panning -> center\n",
    "    queue.out.addevent(musx.MidiEvent.control_change(4, 35, 31)) # Swell bottles volume -> -30 dB\n",
    "    queue.out.addevent(musx.MidiEvent.control_change(6, 32, 16)) # Cup flicks volume -> -14 dB\n",
    "    yield 0"
   ]
  },
  {
   "cell_type": "code",
   "execution_count": 5,
   "metadata": {},
   "outputs": [],
   "source": [
    "def ukulele(queue):\n",
    "    queue.compose([\n",
    "        [0, distribution(queue, chan=0, length=40, notes=musx.scale(24, 7, 2, 2, 1, 2, 2, 2, 1), dur=1)],\n",
    "        [8, distribution(queue, chan=0, length=32, notes=musx.scale(36, 7, 2, 2, 1, 2, 2, 2, 1), dur=0.5)],\n",
    "        [16, distribution(queue, chan=0, length=24, notes=musx.scale(48, 7, 2, 2, 1, 2, 2, 2, 1), dur=0.25)],\n",
    "        [24, distribution(queue, chan=0, length=16, notes=musx.scale(60, 7, 2, 2, 1, 2, 2, 2, 1), dur=0.25)],\n",
    "        [32, distribution(queue, chan=0, length=8, notes=musx.scale(72, 7, 2, 2, 1, 2, 2, 2, 1), dur=0.125)],\n",
    "        [40, distribution(queue, chan=0, length=28, notes=musx.scale(48, 7, 2, 2, 1, 2, 2, 2, 1), dur=0.25)],\n",
    "        [40, cc_linear(queue, chan=0, ctrl=32, length=16, start=0, end=64, low=0, high=127)], # Ramp up Supermassive mix\n",
    "        [56, distribution(queue, chan=0, length=16, notes=musx.scale(36, 7, 2, 2, 1, 2, 2, 2, 1), dur=0.5)],\n",
    "        [60, distribution(queue, chan=0, length=28, notes=musx.scale(36, 7, 2, 2, 1, 2, 2, 2, 1), dur=0.25)],\n",
    "        [64, distribution(queue, chan=0, length=24, notes=musx.scale(48, 7, 2, 2, 1, 2, 2, 2, 1), dur=0.125)],\n",
    "        [68, distribution(queue, chan=0, length=20, notes=musx.scale(60, 7, 2, 2, 1, 2, 2, 2, 1), dur=0.125)],\n",
    "        [88, drunk_walker(queue, chan=0, length=64, notes=musx.scale(36, 15, 2, 2, 1, 2, 2, 2, 1), dur=0.5, drunk_stride=2)],\n",
    "        [96, cc_linear(queue, chan=0, ctrl=33, length=16, start=64, end=56, low=0, high=127)], # Lower volume slightly\n",
    "        ])\n",
    "    yield 0"
   ]
  },
  {
   "cell_type": "code",
   "execution_count": 6,
   "metadata": {},
   "outputs": [],
   "source": [
    "def flicks(queue):\n",
    "    queue.compose([\n",
    "        [0, cc_linear(queue, chan=6, ctrl=32, length=32, start=16, end=64, low=0, high=127)], # Increase volume slowly\n",
    "        [0, drunk_walker(queue, chan=6, length=64, notes=musx.scale(60, 15, 2, 2, 1, 2, 2, 2, 1), dur=2, drunk_stride=4)],\n",
    "        [8, drunk_walker(queue, chan=7, length=64, notes=musx.scale(72, 15, 2, 2, 1, 2, 2, 2, 1), dur=1, drunk_stride=3)],\n",
    "        [16, drunk_walker(queue, chan=6, length=64, notes=musx.scale(60, 15, 2, 2, 1, 2, 2, 2, 1), dur=1, drunk_stride=2)],\n",
    "        [24, drunk_walker(queue, chan=7, length=64, notes=musx.scale(72, 15, 2, 2, 1, 2, 2, 2, 1), dur=0.5, drunk_stride=1)],\n",
    "        [64, cc_linear(queue, chan=6, ctrl=32, length=24, start=64, end=32, low=0, high=127)], # Decrease volume slowly\n",
    "    ])\n",
    "    yield 0"
   ]
  },
  {
   "cell_type": "code",
   "execution_count": 7,
   "metadata": {},
   "outputs": [],
   "source": [
    "def blown_wander(queue):\n",
    "    queue.compose([\n",
    "        [0, cc_linear(queue, chan=2, ctrl=32, length=20, start=48, end=64, low=0, high=127)], # Increase volume slowly\n",
    "        [0, drunk_walker(queue, chan=2, length=96, notes=musx.scale(60, 15, 2, 2, 1, 2, 2, 2, 1), dur=1, drunk_stride=2)],\n",
    "        [8, drunk_walker(queue, chan=2, length=96, notes=musx.scale(60, 15, 2, 2, 1, 2, 2, 2, 1), dur=1, drunk_stride=2)],\n",
    "        [16, drunk_walker(queue, chan=2, length=96, notes=musx.scale(60, 15, 2, 2, 1, 2, 2, 2, 1), dur=1, drunk_stride=2)],\n",
    "        [24, drunk_walker(queue, chan=2, length=96, notes=musx.scale(60, 15, 2, 2, 1, 2, 2, 2, 1), dur=1, drunk_stride=2)]\n",
    "    ])\n",
    "    yield 0"
   ]
  },
  {
   "cell_type": "code",
   "execution_count": 8,
   "metadata": {},
   "outputs": [],
   "source": [
    "def blown_bottles(queue):\n",
    "    queue.compose([\n",
    "        [0, cc_linear(queue, chan=3, ctrl=33, length=24, start=32, end=64, low=0, high=127)], # Increase volume slowly\n",
    "        [20, cc_linear(queue, chan=3, ctrl=32, length=60, start=0, end=1)], # Increase Supermassive mix gradually\n",
    "    ])\n",
    "\n",
    "    for iteration in range(35):\n",
    "        jumble_gen = musx.jumble(musx.scale(48, 23, 2, 2, 1, 2, 2, 2, 1))\n",
    "        notes = [next(jumble_gen) for _ in range(6)]\n",
    "        positions = 16\n",
    "        for note in notes:\n",
    "            events = round(musx.rescale(musx.midran(), 0, 1, 1, positions))\n",
    "            rotation = round(musx.rescale(musx.uniran(), 0, 1, 0, positions - 1))\n",
    "            queue.compose([[iteration * 4, euclidean_rhythm(queue, chan=3, length=4, keynum=note, events=events, positions=positions, cycletime=4, rotation=rotation)]])\n",
    "    yield 0"
   ]
  },
  {
   "cell_type": "code",
   "execution_count": 9,
   "metadata": {},
   "outputs": [],
   "source": [
    "def swell(queue):\n",
    "    queue.compose([\n",
    "        [0, cc_linear(queue, chan=4, ctrl=35, length=12, start=31, end=56, low=0, high=127)], # Increase volume slowly\n",
    "        [0, random_ascend(queue, chan=4, length=128, notes=musx.scale(84, 17, 2, 2, 1, 2, 2, 2, 1), dur=0.5)],\n",
    "        [0, random_ascend(queue, chan=5, length=128, notes=musx.scale(72, 17, 2, 2, 1, 2, 2, 2, 1), dur=1)],\n",
    "        [32, cc_distribution(queue, chan=4, ctrl=33, length=96, rate=0.25)], # Randomize panning\n",
    "        [32, cc_distribution(queue, chan=4, ctrl=34, length=96, rate=0.5)], # Randomize panning\n",
    "        [48, cc_linear(queue, chan=4, ctrl=32, length=32, start=0, end=0.35)], # Increase Supermassive mix gradually\n",
    "        [106, cc_linear(queue, chan=4, ctrl=32, length=24, start=0.35, end=1)] # Increase Supermassive mix gradually to maximum\n",
    "    ])\n",
    "    yield 0"
   ]
  },
  {
   "cell_type": "code",
   "execution_count": 12,
   "metadata": {},
   "outputs": [
    {
     "output_type": "stream",
     "name": "stdout",
     "text": [
      "Done!\n"
     ]
    }
   ],
   "source": [
    "# Generate all of the MIDI and store in seq\n",
    "seq = musx.MidiSeq()\n",
    "queue = musx.Scheduler(out=seq)\n",
    "queue.compose([\n",
    "    [0, cc_init(queue)],\n",
    "    [0, ukulele(queue)],\n",
    "    [104, flicks(queue)],\n",
    "    [154, blown_wander(queue)],\n",
    "    [202, blown_bottles(queue)],\n",
    "    [240, swell(queue)],\n",
    "])"
   ]
  },
  {
   "cell_type": "code",
   "execution_count": 13,
   "metadata": {},
   "outputs": [],
   "source": [
    "# Send the MIDI sequence through the port to Reaper\n",
    "seq.play(midiout, False)"
   ]
  },
  {
   "cell_type": "code",
   "execution_count": 20,
   "metadata": {},
   "outputs": [],
   "source": [
    "# Restart the port, clearing all sound\n",
    "midiout = midi_restart(midiout, 'musx2reaper 1')"
   ]
  }
 ]
}